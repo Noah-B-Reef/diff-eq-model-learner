{
 "cells": [
  {
   "cell_type": "code",
   "execution_count": 2,
   "metadata": {},
   "outputs": [],
   "source": [
    "# import required libraries\n",
    "import numpy as np\n",
    "import matplotlib.pyplot as plt\n",
    "import sympy as sp\n",
    "import pandas as pd\n",
    "from scipy import optimize as opt\n",
    "from sklearn import linear_model"
   ]
  },
  {
   "cell_type": "markdown",
   "metadata": {},
   "source": [
    "# Setup\n",
    "\n",
    "Consider the following 1st-order ordinary differential equation given by\n",
    "\n",
    "\\begin{equation*}\n",
    "\\frac{dx}{dt} = -x\n",
    "\\end{equation*}\n",
    "\n",
    "since this equation is seperable we can get,\n",
    "\n",
    "\\begin{equation*}\n",
    "\\frac{dx}{x} = -dt\n",
    "\\end{equation*}\n",
    "\n",
    "integrating both sides we have,\n",
    "\n",
    "\\begin{align*}\n",
    "\n",
    "\\int \\frac{dx}{x} &= -\\int dt\\\\\n",
    "\\log{x} &= -t + C\n",
    "\\end{align*}\n",
    "\n",
    "raising both sides by $e$ gives us,\n",
    "\n",
    "\\begin{equation*}\n",
    "x = Ae^{-t}\n",
    "\\end{equation*}\n",
    "\n",
    "where $A = e^C$. Below we have the plot for our solution where $A = 10$,"
   ]
  },
  {
   "cell_type": "code",
   "execution_count": 3,
   "metadata": {},
   "outputs": [],
   "source": [
    "# setup independent and dependent variables\n",
    "t = np.linspace(0,10, 100)\n",
    "x = 10*np.exp(-t)"
   ]
  },
  {
   "cell_type": "code",
   "execution_count": 4,
   "metadata": {},
   "outputs": [
    {
     "data": {
      "image/png": "[encoded data removed]",
      "text/plain": [
       "<Figure size 640x480 with 1 Axes>"
      ]
     },
     "metadata": {},
     "output_type": "display_data"
    }
   ],
   "source": [
    "# plot the data\n",
    "plt.plot(t, x)\n",
    "plt.xlabel('Time (s)')\n",
    "plt.ylabel('x(t)')\n",
    "plt.title('Decaying Exponential')\n",
    "plt.grid()\n",
    "plt.show()"
   ]
  },
  {
   "cell_type": "markdown",
   "metadata": {},
   "source": [
    "# Using Least-Squares Regression\n",
    "Now suppose we didn't know the ODE ahead of time and instead was only given discrete information from our system,\n",
    "\n",
    "\\begin{equation*}\n",
    "\\vec{\\frac{dx}{dt}} = \\left[\\frac{dx}{dt}_1, \\dots, \\frac{dx}{dt}_n \\right]\n",
    "\\end{equation*}\n",
    "\n",
    "first assuming that our differential can be expressed as,\n",
    "\n",
    "\\begin{equation*}\n",
    "\\frac{dx}{dt} = c_1 f_1(x) + c_2 f_2(x) + \\dots + c_m f_m(x)\n",
    "\\end{equation*}\n",
    "or,\n",
    "\\begin{equation*}\n",
    "\\vec{\\frac{dx}{dt}} = \\textbf{F}\\vec{c}\n",
    "\\end{equation*}\n",
    "\n",
    "then one approach we could try is to construct a library of \"basis\" functions, $\\textbf{F}$, and use Least-Squares Regression to solve for the coefficients $\\vec{c}$, that is\n",
    "\n",
    "\\begin{equation*}\n",
    "\\vec{c} = \\left(\\textbf{F}^T\\textbf{F}\\right)^{-1} \\textbf{F}^T \\vec{\\frac{dx}{dt}}\n",
    "\\end{equation*}"
   ]
  },
  {
   "cell_type": "code",
   "execution_count": 5,
   "metadata": {},
   "outputs": [
    {
     "name": "stdout",
     "output_type": "stream",
     "text": [
      "x_diff = -1.00000000000028*x1\n"
     ]
    }
   ],
   "source": [
    "# set error threshold for the least squares solution\n",
    "epsilon = 1e-10\n",
    "\n",
    "# discrete time steps\n",
    "x = 10*np.exp(-t)\n",
    "\n",
    "# compute ODE at time discretized time steps\n",
    "x_dot = -1*x\n",
    "\n",
    "# create basis functions\n",
    "\n",
    "one = np.ones(len(t))\n",
    "x = 10*np.exp(-t)\n",
    "x_2 = x**2\n",
    "x_3 = x**3\n",
    "x_4 = x**4\n",
    "x_5 = x**5\n",
    "\n",
    "# create function matrix F\n",
    "F = np.column_stack((one, x, x_2, x_3, x_4, x_5))\n",
    "\n",
    "# solve for the coefficients\n",
    "a = np.linalg.lstsq(F, x_dot, rcond=None)[0]\n",
    "\n",
    "# remove values less then the alloted error threshold\n",
    "a[abs(a) < epsilon] = 0\n",
    "\n",
    "# print solution\n",
    "one, x1, x2, x3, x4, x5 = sp.symbols('1 x1 x2 x3 x4 x5')\n",
    "F_sym = sp.Matrix([one, x1, x2, x3, x4, x5])\n",
    "a_sym = sp.Matrix(a)\n",
    "\n",
    "# print the solution\n",
    "print('x_diff = ' + str((F_sym.T * a_sym)[0]))\n",
    "\n"
   ]
  },
  {
   "cell_type": "markdown",
   "metadata": {},
   "source": [
    "# Real-Life Data\n",
    "\n",
    "Unfortunately, unlike the example above the data will not be as nice(namely since we don't know the differential equation) and hence may need to approximate it indirectly, such as using Forward Difference. That is if we are given a series of time-series data we can compute,\n",
    "\n",
    "\\begin{equation*}\n",
    "\\hat{\\frac{dx}{dt}} = \\left[\\frac{x(t_1+h) - x(t_1)}{h}, \\frac{x(t_2+h) - x(t_2)}{h}, \\dots\\right]\n",
    "\\end{equation*}"
   ]
  },
  {
   "cell_type": "code",
   "execution_count": 6,
   "metadata": {},
   "outputs": [
    {
     "name": "stdout",
     "output_type": "stream",
     "text": [
      "x_diff = -1.00000058311521*x1\n"
     ]
    }
   ],
   "source": [
    "# generate time series data\n",
    "t = np.linspace(0,10, 10000000) # 0 <= t <= 10\n",
    "\n",
    "delta_t = t[1] - t[0] # time step\n",
    "\n",
    "x = 10*np.exp(-t) # x = 10e^(-t)\n",
    "\n",
    "# add noise to the data\n",
    "\n",
    "# randomly select points in data\n",
    "indices = np.random.choice(range(len(t)), 10, replace=False)\n",
    "\n",
    "# add noise to the selected points\n",
    "x[indices] = x[indices] + np.random.normal(0, 0.1, len(indices))\n",
    "\n",
    "\n",
    "# approximate the derivative using forward-difference\n",
    "x_dot = [(x[i+1] - x[i])/delta_t for i in range(len(t)-1)]\n",
    "\n",
    "# create basis functions\n",
    "one = np.ones(len(t)-1)\n",
    "x = 10*np.exp(-t[:-1])\n",
    "x_2 = x**2\n",
    "x_3 = x**3\n",
    "x_4 = x**4\n",
    "x_5 = x**5\n",
    "\n",
    "# create function matrix F\n",
    "F = np.column_stack((one, x, x_2, x_3, x_4, x_5))\n",
    "\n",
    "# solve for the coefficients\n",
    "a = np.linalg.lstsq(F, x_dot, rcond=None)[0]\n",
    "\n",
    "# set error threshold\n",
    "epsilon = 1e-5\n",
    "\n",
    "# remove values less then the alloted error threshold\n",
    "a[abs(a) < epsilon] = 0\n",
    "\n",
    "# print solution\n",
    "one, x1, x2, x3, x4, x5 = sp.symbols('1 x1 x2 x3 x4 x5')\n",
    "F_sym = sp.Matrix([one, x1, x2, x3, x4, x5])\n",
    "a_sym = sp.Matrix(a)\n",
    "\n",
    "# print the solution\n",
    "print('x_diff = ' + str((F_sym.T * a_sym)[0]))\n"
   ]
  },
  {
   "cell_type": "code",
   "execution_count": 7,
   "metadata": {},
   "outputs": [
    {
     "name": "stdout",
     "output_type": "stream",
     "text": [
      "x_diff = 0.00041803042610078*1 - 0.971812839870966*x1 + 0.0237574907745263*x2 - 0.00760479846027934*x3 + 0.000928013776322272*x4 - 3.84986191838998e-5*x5\n",
      "x_diff = -0.000691570022865003*1 - 0.97997373436339*x1 - 0.0186923543155409*x2 + 0.00641849465790225*x3 - 0.000823199599082456*x4 + 3.54790037259544e-5*x5\n",
      "x_diff = 2.80209963943807e-5*1 - 1.0001419489088*x1 + 0.000883928086056028*x2 - 0.000321957457182412*x3 + 4.29034376830019e-5*x4\n",
      "x_diff = -0.999899838202066*x1 - 5.74480415755615e-5*x2 + 1.81568352976957e-5*x3\n",
      "x_diff = -1.00000200197038*x1\n",
      "x_diff = -0.99999943251236*x1\n"
     ]
    },
    {
     "data": {
      "text/plain": [
       "Text(0.5, 1.0, 'Error vs. Resolution')"
      ]
     },
     "execution_count": 7,
     "metadata": {},
     "output_type": "execute_result"
    },
    {
     "data": {
      "image/png": "[encoded data removed]",
      "text/plain": [
       "<Figure size 640x480 with 1 Axes>"
      ]
     },
     "metadata": {},
     "output_type": "display_data"
    }
   ],
   "source": [
    "\n",
    "resolution = [100,1000,10000,100000,1000000,10000000]\n",
    "error = []\n",
    "for res in resolution:\n",
    "    t = np.linspace(0,10, res) # 0 <= t <= 10\n",
    "\n",
    "    delta_t = t[1] - t[0] # time step\n",
    "\n",
    "    x = 10*np.exp(-t) # x = 10e^(-t)\n",
    "\n",
    "    # add noise to the data\n",
    "\n",
    "    # randomly select points in data\n",
    "    indices = np.random.choice(range(len(t)), 10, replace=False)\n",
    "\n",
    "    # add noise to the selected points\n",
    "    x[indices] = x[indices] + np.random.normal(0, 0.1, len(indices))\n",
    "\n",
    "\n",
    "    # approximate the derivative using forward-difference\n",
    "    x_dot = [(x[i+1] - x[i])/delta_t for i in range(len(t)-1)]\n",
    "\n",
    "    # create basis functions\n",
    "    one = np.ones(len(t)-1)\n",
    "    x = 10*np.exp(-t[:-1])\n",
    "    x_2 = x**2\n",
    "    x_3 = x**3\n",
    "    x_4 = x**4\n",
    "    x_5 = x**5\n",
    "\n",
    "    # create function matrix F\n",
    "    F = np.column_stack((one, x, x_2, x_3, x_4, x_5))\n",
    "\n",
    "    # solve for the coefficients\n",
    "    a = np.linalg.lstsq(F, x_dot, rcond=None)[0]\n",
    "\n",
    "    # set error threshold\n",
    "    epsilon = 1e-5\n",
    "\n",
    "    # remove values less then the alloted error threshold\n",
    "    a[abs(a) < epsilon] = 0\n",
    "\n",
    "    # print solution\n",
    "    one, x1, x2, x3, x4, x5 = sp.symbols('1 x1 x2 x3 x4 x5')\n",
    "    F_sym = sp.Matrix([one, x1, x2, x3, x4, x5])\n",
    "    a_sym = sp.Matrix(a)\n",
    "\n",
    "    # print the solution\n",
    "    print('x_diff = ' + str((F_sym.T * a_sym)[0]))\n",
    "    error.append(np.linalg.norm(np.array([0, -1, 0, 0,0, 0]) - a))\n",
    "# plot the error\n",
    "\n",
    "x = resolution\n",
    "y = error\n",
    "plt.grid()\n",
    "plt.plot(x, y)\n",
    "plt.xscale('log')\n",
    "plt.yscale('log')\n",
    "plt.xlabel('log10(Resolution)')\n",
    "plt.ylabel('log10(Error)')\n",
    "plt.title('Error vs. Resolution')"
   ]
  },
  {
   "cell_type": "code",
   "execution_count": 8,
   "metadata": {},
   "outputs": [
    {
     "name": "stdout",
     "output_type": "stream",
     "text": [
      "x_diff = -0.99999943251236*x1\n",
      "x_diff = -0.99999943251236*x1\n",
      "x_diff = -0.99999943251236*x1\n",
      "x_diff = -0.99999943251236*x1\n",
      "x_diff = -0.99999943251236*x1\n",
      "x_diff = -0.99999943251236*x1\n"
     ]
    },
    {
     "data": {
      "text/plain": [
       "Text(0.5, 1.0, 'Error vs. Resolution')"
      ]
     },
     "execution_count": 8,
     "metadata": {},
     "output_type": "execute_result"
    },
    {
     "data": {
      "image/png": "[encoded data removed]",
      "text/plain": [
       "<Figure size 640x480 with 1 Axes>"
      ]
     },
     "metadata": {},
     "output_type": "display_data"
    }
   ],
   "source": [
    "\n",
    "resolution = [100,1000,10000,100000,1000000,10000000]\n",
    "error = []\n",
    "for res in resolution:\n",
    "    t = np.linspace(0,10, res) # 0 <= t <= 10\n",
    "\n",
    "    delta_t = t[1] - t[0] # time step\n",
    "\n",
    "    x = 10*np.exp(-t) # x = 10e^(-t)\n",
    "\n",
    "    # add noise to the data\n",
    "\n",
    "    # randomly select points in data\n",
    "    indices = np.random.choice(range(len(t)), 10, replace=False)\n",
    "\n",
    "    # add noise to the selected points\n",
    "    x[indices] = x[indices] + np.random.normal(0, 0.1, len(indices))\n",
    "\n",
    "\n",
    "    # approximate the derivative using forward-difference\n",
    "    x_dot = [(x[i+1] - x[i])/delta_t for i in range(len(t)-1)]\n",
    "\n",
    "    # create basis functions\n",
    "    one = np.ones(len(t)-1)\n",
    "    x = 10*np.exp(-t[:-1])\n",
    "    x_2 = x**2\n",
    "    x_3 = x**3\n",
    "    x_4 = x**4\n",
    "    x_5 = x**5\n",
    "\n",
    "    # create function matrix F\n",
    "    F = np.column_stack((one, x, x_2, x_3, x_4, x_5))\n",
    "\n",
    "    # solve for the coefficients\n",
    "\n",
    "    \n",
    "    # set error threshold\n",
    "    epsilon = 1e-5\n",
    "\n",
    "    # remove values less then the alloted error threshold\n",
    "    a[abs(a) < epsilon] = 0\n",
    "\n",
    "    # print solution\n",
    "    one, x1, x2, x3, x4, x5 = sp.symbols('1 x1 x2 x3 x4 x5')\n",
    "    F_sym = sp.Matrix([one, x1, x2, x3, x4, x5])\n",
    "    a_sym = sp.Matrix(a)\n",
    "\n",
    "    # print the solution\n",
    "    print('x_diff = ' + str((F_sym.T * a_sym)[0]))\n",
    "    error.append(np.linalg.norm(np.array([0, -1, 0, 0,0, 0]) - a))\n",
    "# plot the error\n",
    "\n",
    "x = np.log10(resolution)\n",
    "y = np.log10(error)\n",
    "plt.grid()\n",
    "plt.plot(x, y)\n",
    "plt.xlabel('log10(Resolution)')\n",
    "plt.ylabel('log10(Error)')\n",
    "plt.title('Error vs. Resolution')"
   ]
  },
  {
   "cell_type": "markdown",
   "metadata": {},
   "source": [
    "#  Lorenz Attractor Example\n",
    "Next we will attempt to implement our approach above for the Lorenz Attractor descroibed as,\n",
    "\n",
    "\\begin{align*}\n",
    "\\frac{dx}{dt} &= \\sigma(y-x) \\\\\n",
    "\\frac{dy}{dt} &= x(\\rho - z) - y \\\\\n",
    "\\frac{dz}{dt} &= xy -\\beta z\n",
    "\\end{align*}\n",
    "\n",
    "here we will consider the case that $\\sigma = 10, \\beta=\\frac{8}{3}, \\rho=28$."
   ]
  },
  {
   "cell_type": "code",
   "execution_count": 13,
   "metadata": {},
   "outputs": [
    {
     "name": "stdout",
     "output_type": "stream",
     "text": [
      "x_diff = -10.0380600414961*x + 0.00100218180610286*xz + 10.0110399819246*y\n",
      "y_diff = 28.0219847481855*x - 1.00117971245821*xz - 1.02894357837677*y + 0.00168800436781446*yz\n",
      "z_diff = -0.198349097975644*1 + 0.999999836158641*xy - 2.65826592396847*z\n"
     ]
    }
   ],
   "source": [
    "# set up Lorenz Attractor\n",
    "sigma = 10\n",
    "beta = 8/3\n",
    "rho = 28\n",
    "\n",
    "\n",
    "dx = lambda x,y: sigma*(y-x)\n",
    "dy = lambda x,y,z: x*(rho-z)-y\n",
    "dz = lambda x,y,z: x*y-beta*z\n",
    "\n",
    "# Establish poitns in time\n",
    "x = []\n",
    "y = [] \n",
    "z = []\n",
    "\n",
    "# intial conditions\n",
    "x.append(1)\n",
    "y.append(1)\n",
    "z.append(1)\n",
    "\n",
    "# derivative of the Lorenz Attractor\n",
    "x_dot = []\n",
    "y_dot = []\n",
    "z_dot = []\n",
    "\n",
    "x_dot.append(dx(x[0],y[0]))\n",
    "y_dot.append(dy(x[0],y[0],z[0]))\n",
    "z_dot.append(dz(x[0],y[0],z[0]))\n",
    "\n",
    "for i in range(1,10000000):\n",
    "    x_dot.append(dx(x[i-1],y[i-1]))\n",
    "    y_dot.append(dy(x[i-1],y[i-1],z[i-1]))\n",
    "    z_dot.append(dz(x[i-1],y[i-1],z[i-1]))\n",
    "    x.append(x[i-1] + x_dot[-1]*0.0001)\n",
    "    y.append(y[i-1] + y_dot[-1]*0.0001)\n",
    "    z.append(z[i-1] + z_dot[-1]*0.0001)\n",
    "\n",
    "# create basis functions\n",
    "one = np.ones(len(x_dot))\n",
    "x = np.array(x)\n",
    "y = np.array(y)\n",
    "z = np.array(z)\n",
    "xy = np.multiply(x,y)\n",
    "xz = np.multiply(x,z)\n",
    "yz = np.multiply(y,z)\n",
    "\n",
    "# create function matrix F\n",
    "F = np.column_stack((one, x,y,z,xy,xz,yz))\n",
    "\n",
    "# solve for the coefficients\n",
    "a = np.linalg.lstsq(F, x_dot, rcond=None)[0]\n",
    "b = np.linalg.lstsq(F, y_dot, rcond=None)[0]\n",
    "c = np.linalg.lstsq(F, z_dot, rcond=None)[0]\n",
    "\n",
    "# set error threshold\n",
    "epsilon = 1e-3\n",
    "\n",
    "# remove values less then the alloted error threshold\n",
    "a[abs(a) < epsilon] = 0\n",
    "b[abs(b) < epsilon] = 0\n",
    "c[abs(c) < epsilon] = 0\n",
    "\n",
    "# print solution\n",
    "one, x,y,z,xy,xz,yz = sp.symbols('1 x y z xy xz yz')\n",
    "F_sym = sp.Matrix([one, x, y, z, xy, xz, yz])\n",
    "a_sym = sp.Matrix(a)\n",
    "b_sym = sp.Matrix(b)\n",
    "c_sym = sp.Matrix(c)\n",
    "\n",
    "# print the solution\n",
    "print('x_diff = ' + str((F_sym.T * a_sym)[0]))\n",
    "print('y_diff = ' + str((F_sym.T * b_sym)[0]))\n",
    "print('z_diff = ' + str((F_sym.T * c_sym)[0]))\n",
    "\n"
   ]
  },
  {
   "cell_type": "markdown",
   "metadata": {},
   "source": [
    "# Analysis of Lorenz Attractor\n",
    "Below is an analysis of finding the coefficients of our attractor using the *numpy* least-square solver."
   ]
  },
  {
   "cell_type": "code",
   "execution_count": 19,
   "metadata": {},
   "outputs": [
    {
     "ename": "SyntaxError",
     "evalue": "incomplete input (2270018225.py, line 35)",
     "output_type": "error",
     "traceback": [
      "\u001b[0;36m  Cell \u001b[0;32mIn[19], line 35\u001b[0;36m\u001b[0m\n\u001b[0;31m    # run 'simulation'\u001b[0m\n\u001b[0m                      ^\u001b[0m\n\u001b[0;31mSyntaxError\u001b[0m\u001b[0;31m:\u001b[0m incomplete input\n"
     ]
    }
   ],
   "source": [
    "# setup dataframe for storing data\n",
    "df = pd.Dataframe(columns=[\"\"])\n",
    "\n",
    "# setup parameters for Lorenz Attractor\n",
    "sigma = 10\n",
    "beta = 8/3\n",
    "rho = 28\n",
    "\n",
    "# Lorenz Attractor Equations\n",
    "dx = lambda x,y: sigma*(y-x)\n",
    "dy = lambda x,y,z: x*(rho-z)-y\n",
    "dz = lambda x,y,z: x*y-beta*z\n",
    "\n",
    "# setup position coordinates\n",
    "x = []\n",
    "y = []\n",
    "z = []\n",
    "\n",
    "# interval of analysis\n",
    "t1 = [10,12,14,16]\n",
    "numOfSteps = [100,1000,10000,100000,1000000]\n",
    "\n",
    "# error threshold\n",
    "error_threshold = [1e-3,1e-5,1e-7]\n",
    "\n",
    "\n",
    "# initial position P0 = (1,1,1)\n",
    "x.append(1)\n",
    "y.append(1)\n",
    "z.append(1)\n",
    "\n",
    "# experiement\n",
    "for i in t0:\n",
    "    for j in t1:\n",
    "        for steps in numOfSteps:\n",
    "            for epsilon in error_threshold:\n",
    "                \n",
    "                # run 'simulation'\n",
    "                for i in range(1,numOfSteps):\n",
    "                    x_dot.append(dx(x[i-1],y[i-1]))\n",
    "                    y_dot.append(dy(x[i-1],y[i-1],z[i-1]))\n",
    "                    z_dot.append(dz(x[i-1],y[i-1],z[i-1]))\n",
    "                    x.append(x[i-1] + x_dot[-1]*t1/numOfSteps)\n",
    "                    y.append(y[i-1] + y_dot[-1]*t1/numOfSteps)\n",
    "                    z.append(z[i-1] + z_dot[-1]*t1/numOfSteps)\n",
    "\n",
    "                # create basis functions\n",
    "                one = np.ones(len(x_dot))\n",
    "                x = np.array(x)\n",
    "                y = np.array(y)\n",
    "                z = np.array(z)\n",
    "                xy = np.multiply(x,y)\n",
    "                xz = np.multiply(x,z)\n",
    "                yz = np.multiply(y,z)\n",
    "\n",
    "                # create function matrix F\n",
    "                F = np.column_stack((one, x,y,z,xy,xz,yz))\n",
    "\n",
    "                # solve for the coefficients\n",
    "                a = np.linalg.lstsq(F, x_dot, rcond=None)[0]\n",
    "                b = np.linalg.lstsq(F, y_dot, rcond=None)[0]\n",
    "                c = np.linalg.lstsq(F, z_dot, rcond=None)[0]\n",
    "\n",
    "\n",
    "\n",
    "                # remove values less then the alloted error threshold\n",
    "                a[abs(a) < epsilon] = 0\n",
    "                b[abs(b) < epsilon] = 0\n",
    "                c[abs(c) < epsilon] = 0\n"
   ]
  },
  {
   "cell_type": "code",
   "execution_count": 15,
   "metadata": {},
   "outputs": [
    {
     "name": "stdout",
     "output_type": "stream",
     "text": [
      "[ 0.         -9.34752827  9.57678403  0.          0.         -0.01826181\n",
      "  0.01203638]\n"
     ]
    },
    {
     "name": "stderr",
     "output_type": "stream",
     "text": [
      "/Users/nreef/anaconda3/lib/python3.11/site-packages/sklearn/linear_model/_coordinate_descent.py:628: ConvergenceWarning: Objective did not converge. You might want to increase the number of iterations, check the scale of the features or consider increasing regularisation. Duality gap: 1.410e+07, tolerance: 1.815e+06\n",
      "  model = cd_fast.enet_coordinate_descent(\n"
     ]
    }
   ],
   "source": [
    "clf = linear_model.Lasso(alpha=0.1)\n",
    "clf.fit(F, x_dot)\n",
    "coeff = clf.coef_\n",
    "for i in range(len(coeff)):\n",
    "    if abs(coeff[i]) < 1e-3:\n",
    "        coeff[i] = 0\n",
    "\n",
    "print(coeff)"
   ]
  },
  {
   "cell_type": "code",
   "execution_count": 17,
   "metadata": {},
   "outputs": [
    {
     "name": "stdout",
     "output_type": "stream",
     "text": [
      "[ 0.00000000e+00  2.73174544e+01 -5.85897400e-01  0.00000000e+00\n",
      "  0.00000000e+00 -9.81513959e-01 -1.06038478e-02]\n"
     ]
    },
    {
     "name": "stderr",
     "output_type": "stream",
     "text": [
      "/Users/nreef/anaconda3/lib/python3.11/site-packages/sklearn/linear_model/_coordinate_descent.py:628: ConvergenceWarning: Objective did not converge. You might want to increase the number of iterations, check the scale of the features or consider increasing regularisation. Duality gap: 2.202e+07, tolerance: 4.252e+06\n",
      "  model = cd_fast.enet_coordinate_descent(\n"
     ]
    }
   ],
   "source": [
    "clf = linear_model.Lasso(alpha=0.1)\n",
    "clf.fit(F, y_dot)\n",
    "coeff = clf.coef_\n",
    "for i in range(len(coeff)):\n",
    "    if abs(coeff[i]) < 1e-3:\n",
    "        coeff[i] = 0\n",
    "\n",
    "print(coeff)"
   ]
  },
  {
   "cell_type": "code",
   "execution_count": null,
   "metadata": {},
   "outputs": [],
   "source": []
  }
 ],
 "metadata": {
  "kernelspec": {
   "display_name": "Python 3 (ipykernel)",
   "language": "python",
   "name": "python3"
  },
  "language_info": {
   "codemirror_mode": {
    "name": "ipython",
    "version": 3
   },
   "file_extension": ".py",
   "mimetype": "text/x-python",
   "name": "python",
   "nbconvert_exporter": "python",
   "pygments_lexer": "ipython3",
   "version": "3.11.5"
  }
 },
 "nbformat": 4,
 "nbformat_minor": 2
}
